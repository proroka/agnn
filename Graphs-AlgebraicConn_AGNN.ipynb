{
  "nbformat": 4,
  "nbformat_minor": 0,
  "metadata": {
    "colab": {
      "name": "lab6_Graphs_AGNN.ipynb",
      "provenance": [],
      "collapsed_sections": []
    },
    "kernelspec": {
      "name": "python3",
      "display_name": "Python 3"
    }
  },
  "cells": [
    {
      "cell_type": "code",
      "metadata": {
        "id": "8sEpTlRBGAfH",
        "colab_type": "code",
        "colab": {}
      },
      "source": [
        "import torch\n",
        "from torch import nn\n",
        "from torch.nn import functional\n",
        "from torch.utils import data\n",
        "\n",
        "import numpy as np\n",
        "import matplotlib.pylab as plt\n",
        "\n",
        "import argparse\n",
        "import json\n",
        "import networkx as nx\n",
        "import random\n",
        "import tqdm"
      ],
      "execution_count": 1,
      "outputs": []
    },
    {
      "cell_type": "code",
      "metadata": {
        "id": "GlHek3G1bdq_",
        "colab_type": "code",
        "colab": {
          "base_uri": "https://localhost:8080/",
          "height": 68
        },
        "outputId": "c18e0287-bb7a-4a87-fb65-b963bc97765e"
      },
      "source": [
        "# Graph dataset\n",
        "\n",
        "class GraphsAlgebraicDataset(data.Dataset):\n",
        "  \"\"\"Dataset: graph laplacians and their algebraic connectivity.\"\"\"\n",
        "\n",
        "  def __init__(self, num_nodes, num_graphs):\n",
        "    ds_adjs = []\n",
        "    ds_algebs = []\n",
        "    ds_num_nodes = []\n",
        "    max_num_nodes = max(num_nodes)  # Used for padding.\n",
        "    for i in range(num_graphs):\n",
        "      #  Create equal number of graphs for number of nodes.\n",
        "      idx = i % len(num_nodes)\n",
        "      N = num_nodes[idx]\n",
        "      g = self.random_graph(N, N)\n",
        "      adj_ = np.asarray(nx.adjacency_matrix(g).todense()).astype(np.float32)\n",
        "      adj_ = np.pad(adj_, ((0, max_num_nodes - N),)*2 , 'constant')\n",
        "      ds_adjs.append(adj_)\n",
        "      ds_algebs.append((nx.algebraic_connectivity(g)))\n",
        "      ds_num_nodes.append(N)\n",
        "\n",
        "    self.adjacencies = ds_adjs\n",
        "    self.algebraics = ds_algebs\n",
        "    self.num_nodes = ds_num_nodes\n",
        "\n",
        "  def __len__(self):\n",
        "    return len(self.adjacencies)\n",
        "\n",
        "  def __getitem__(self, idx):\n",
        "    adjacency = self.adjacencies[idx]\n",
        "    algebraic = self.algebraics[idx]\n",
        "    num_nodes = self.num_nodes[idx]\n",
        "    sample = {'adjacency': adjacency, 'algebraic': algebraic, 'num_nodes': num_nodes}  \n",
        "    return sample\n",
        "\n",
        "  @staticmethod\n",
        "  def random_graph(min_node, max_node):\n",
        "    n_nodes = random.randint(min_node, max_node)\n",
        "    gr = nx.generators.scale_free_graph(n_nodes)\n",
        "    # This graph is directed, so we create an undirected version of it.\n",
        "    # It also contains self-loops and duplicated edges.\n",
        "    edges = set()\n",
        "    for edge in gr.edges():\n",
        "      if edge[0] == edge[1]:\n",
        "        continue\n",
        "      if (edge[1], edge[0]) in edges:\n",
        "        continue\n",
        "      edges.add(edge)\n",
        "    graph = nx.Graph()\n",
        "    graph.add_edges_from(edges)\n",
        "    return graph\n",
        "  \n",
        "\n",
        "# Create dataset\n",
        "batch_size = 10\n",
        "num_graphs_train = 200\n",
        "num_graphs_valid = 30\n",
        "num_graphs_test = 30\n",
        "num_nodes = [8, 9]  # range of number of nodes, N\n",
        "\n",
        "train_set = GraphsAlgebraicDataset(num_nodes, num_graphs_train)\n",
        "valid_set = GraphsAlgebraicDataset(num_nodes, num_graphs_valid)\n",
        "test_set = GraphsAlgebraicDataset(num_nodes, num_graphs_test)\n",
        "\n",
        "train_loader = data.DataLoader(train_set, batch_size=batch_size, shuffle=True)\n",
        "valid_loader = data.DataLoader(valid_set, batch_size=batch_size)\n",
        "test_loader = data.DataLoader(test_set, batch_size=batch_size)\n",
        "\n",
        "for samples in train_loader:\n",
        "  print(\"Adjacency dimensions:\", samples['adjacency'].shape)\n",
        "  print(\"Num nodes dimensions:\", samples['num_nodes'].shape)\n",
        "  print(\"Label dimensions:\", samples['algebraic'].shape)\n",
        "  break\n"
      ],
      "execution_count": 2,
      "outputs": [
        {
          "output_type": "stream",
          "text": [
            "Adjacency dimensions: torch.Size([10, 9, 9])\n",
            "Num nodes dimensions: torch.Size([10])\n",
            "Label dimensions: torch.Size([10])\n"
          ],
          "name": "stdout"
        }
      ]
    },
    {
      "cell_type": "code",
      "metadata": {
        "id": "IoD4oO0EMBCz",
        "colab_type": "code",
        "colab": {}
      },
      "source": [
        "# Model\n",
        "\n",
        "# Simple linear layer\n",
        "class MyModel(nn.Module):\n",
        "  def __init__(self, F, Gs, K):\n",
        "    \"\"\"G: number of output features\n",
        "       K: number of hops \n",
        "       L: number of layers \"\"\"\n",
        "    super(MyModel, self).__init__()   \n",
        "    \n",
        "    self.Gs = Gs\n",
        "    self.K = K\n",
        "    L = len(Gs)  # Each layer has its own number of output features.\n",
        "    self.L = L\n",
        "\n",
        "    # List of linear models\n",
        "    self.linears = []  # Array of A_k matrices for each hop\n",
        "    for l in range(L):\n",
        "      layer_linears = []\n",
        "      l_in = F if l==0 else Gs[l-1]\n",
        "      l_out = Gs[l]\n",
        "      for k in range(K):\n",
        "        layer_linears.append((nn.Linear(l_in, l_out, bias=False))) # A_k in paper\n",
        "      self.linears.append(layer_linears)\n",
        "\n",
        "    # Input size is output of last layer's Linear \n",
        "    self.linear_final = nn.Linear(Gs[-1], 1)\n",
        "    self.activation = nn.ReLU()\n",
        "\n",
        "\n",
        "  def forward(self, x, s):\n",
        "    \"\"\"x: observation, dim = B x N x F\n",
        "       s: adjacency matrix, dim = B x N x N\n",
        "       output, dim = B x N x G \"\"\"\n",
        "    batch_size = x.shape[0]\n",
        "    N = x.shape[1]\n",
        "\n",
        "    #  Iterate over layers and comm hops\n",
        "    for l in range(self.L):\n",
        "      sxa = torch.zeros(batch_size, N, self.Gs[l])\n",
        "      # S^0 does not communicate, multiply by identity\n",
        "      sk = torch.eye(N).expand_as(s)\n",
        "      for k in range(self.K):\n",
        "        sx = torch.matmul(sk, x)\n",
        "        sxa_ = self.linears[l][k](sx)  # S^k X A_k, where linear layer learns A_k\n",
        "        sxa += sxa_  # Aggregate\n",
        "        # Take the k-th power of s\n",
        "        sk = torch.matmul(s, sk)\n",
        "      x = self.activation(sxa)\n",
        "\n",
        "    out = self.linear_final(x)  # input: N x G, output: N x 1\n",
        "    return out\n",
        "\n",
        "\n"
      ],
      "execution_count": 3,
      "outputs": []
    },
    {
      "cell_type": "code",
      "metadata": {
        "id": "dyALZUeux2sH",
        "colab_type": "code",
        "colab": {
          "base_uri": "https://localhost:8080/",
          "height": 68
        },
        "outputId": "d457ed4a-9872-426d-d09c-c77b7faaa58e"
      },
      "source": [
        "# Configuration\n",
        "\n",
        "num_in_features = 4  # F\n",
        "num_out_features = [3, 3]  # G\n",
        "num_layers = len(num_out_features)  # L\n",
        "num_hops = 3  # K; K=1: 0 hops, K=2: 1 hop, etc.\n",
        "\n",
        "# Test the model with 1 batch\n",
        "test_model = MyModel(num_in_features, num_out_features, num_hops)\n",
        "\n",
        "for samples in train_loader:\n",
        "  print(\"Data shape\", samples['adjacency'].shape)\n",
        "  num_nodes = samples['adjacency'].shape[1]\n",
        "  x = torch.ones(batch_size, num_nodes, num_in_features)  # dim = B x N x F\n",
        "  out = test_model(x, samples['adjacency'])\n",
        "  labels = samples['algebraic'].reshape([batch_size, 1, 1]).expand(-1, num_nodes, -1)\n",
        "\n",
        "  print(\"Out shape:\", out.shape)\n",
        "  print(\"Label shape: \", labels.shape)\n",
        "  break"
      ],
      "execution_count": 4,
      "outputs": [
        {
          "output_type": "stream",
          "text": [
            "Data shape torch.Size([10, 9, 9])\n",
            "Out shape: torch.Size([10, 9, 1])\n",
            "Label shape:  torch.Size([10, 9, 1])\n"
          ],
          "name": "stdout"
        }
      ]
    },
    {
      "cell_type": "code",
      "metadata": {
        "id": "Do5kdixOvk-l",
        "colab_type": "code",
        "colab": {
          "base_uri": "https://localhost:8080/",
          "height": 51
        },
        "outputId": "217b2a5d-4285-4948-eba8-84b6c293c97b"
      },
      "source": [
        "def padded_mse_loss(outputs, target, num_nodes):\n",
        "  mse = padded_operation(outputs, target, num_nodes, lambda a, b: (a-b)**2)\n",
        "  return torch.mean(mse)\n",
        "\n",
        "def padded_errors(outputs, target, num_nodes):\n",
        "  return padded_operation(outputs, target, num_nodes, lambda a, b: (a-b))\n",
        "\n",
        "def padded_operation(outputs, target, num_nodes, criterion_fn):\n",
        "  batch_size = outputs.shape[0]\n",
        "  max_num_nodes = outputs.shape[1]\n",
        "\n",
        "  labels = target.reshape([batch_size, 1, 1]).expand(-1, max_num_nodes, -1)\n",
        "  error = criterion_fn(outputs, labels) \n",
        "\n",
        "  # Compute indeces that belong to non-padded error values\n",
        "  idx = torch.arange(max_num_nodes).reshape([1, max_num_nodes, 1]).expand(batch_size, -1, -1)\n",
        "  num_nodes_reshaped = torch.reshape(num_nodes, [batch_size, 1, 1]).expand(-1, max_num_nodes, -1)\n",
        "  idx = (idx < num_nodes_reshaped).float()\n",
        "\n",
        "  #  Consider only non-padded error values for mse.\n",
        "  errors = torch.sum(error * idx, [1, 2]) / num_nodes\n",
        "  return errors\n",
        "\n",
        "print(padded_mse_loss(out, samples['algebraic'], samples['num_nodes']).shape)\n",
        "print(padded_errors(out, samples['algebraic'], samples['num_nodes']).shape)"
      ],
      "execution_count": 5,
      "outputs": [
        {
          "output_type": "stream",
          "text": [
            "torch.Size([])\n",
            "torch.Size([10])\n"
          ],
          "name": "stdout"
        }
      ]
    },
    {
      "cell_type": "code",
      "metadata": {
        "id": "sNFsDNX6lGQh",
        "colab_type": "code",
        "colab": {
          "base_uri": "https://localhost:8080/",
          "height": 622
        },
        "outputId": "7e399b50-9553-4dba-a4b8-d0185be89deb"
      },
      "source": [
        "# Training\n",
        "\n",
        "# CUDA for PyTorch\n",
        "device = torch.device(\"cuda:0\" if torch.cuda.is_available() else \"cpu\")\n",
        "\n",
        "model = MyModel(num_in_features, num_out_features, num_hops)\n",
        "# Initial message sent across nodes\n",
        "# x_input = torch.ones(batch_size, num_nodes, num_in_features)  # dim = B x N x F\n",
        "\n",
        "model = model.to(device)\n",
        "\n",
        "max_epochs = 200\n",
        "learning_rate = 0.001\n",
        "optimizer = torch.optim.Adam(model.parameters(), lr=learning_rate)\n",
        "lr_lambda = lambda epoch: 0.95 ** epoch\n",
        "# scheduler = torch.optim.lr_scheduler.LambdaLR(optimizer, lr_lambda=lr_lambda)\n",
        "scheduler = torch.optim.lr_scheduler.ReduceLROnPlateau(optimizer, 'min', patience=2, factor=0.1)\n",
        "\n",
        "# Loop over epochs\n",
        "train_errors = []\n",
        "valid_errors = []\n",
        "valid_errors_steps = []\n",
        "step_counter = 0\n",
        "for epoch in range(max_epochs):\n",
        "  train_running_loss = 0.0\n",
        "\n",
        "  model.train()\n",
        "  # Training\n",
        "  for i, samples in enumerate(train_loader):\n",
        "    # Transfer to GPU\n",
        "    adjacencies = samples['adjacency'].to(device)\n",
        "    # Forwards pass\n",
        "    batch_size = adjacencies.shape[0]\n",
        "    max_num_nodes = adjacencies.shape[1]\n",
        "    x_input = torch.ones(batch_size, max_num_nodes, num_in_features)\n",
        "    outputs = model(x_input, adjacencies)\n",
        "    # Labels\n",
        "    labels = samples['algebraic'].to(device)\n",
        "    # Number of nodes.\n",
        "    num_nodes = samples['num_nodes'].to(device)\n",
        "\n",
        "    # Compute loss\n",
        "    loss = padded_mse_loss(outputs, labels, num_nodes)\n",
        "    \n",
        "    # Zero gradients, compute backwards pass, update weights\n",
        "    optimizer.zero_grad()\n",
        "    loss.backward()\n",
        "    # Update model parameters\n",
        "    optimizer.step()\n",
        "    step_counter += 1\n",
        "\n",
        "    train_running_loss += loss.detach().item()\n",
        "    train_errors.append(loss.detach().item())\n",
        "  train_running_loss /= i\n",
        "\n",
        "  # validation error\n",
        "  model.eval()\n",
        "  valid_running_loss = 0.0\n",
        "  for i, samples in enumerate(valid_loader):\n",
        "    adjacencies = samples['adjacency'].to(device)\n",
        "    labels = samples['algebraic'].to(device)\n",
        "    num_nodes = samples['num_nodes'].to(device)\n",
        "    # Forwards pass\n",
        "    batch_size = adjacencies.shape[0]\n",
        "    max_num_nodes = adjacencies.shape[1]\n",
        "    x_input = torch.ones(batch_size, max_num_nodes, num_in_features)\n",
        "    outputs = model(x_input, adjacencies) \n",
        "    loss = padded_mse_loss(outputs, labels, num_nodes)\n",
        "    valid_running_loss += loss.detach().item()\n",
        "  valid_running_loss /= i\n",
        "  valid_errors.append(valid_running_loss)\n",
        "  valid_errors_steps.append(step_counter)\n",
        "\n",
        "  # print training loss\n",
        "  if epoch % 10 == 0:\n",
        "    print('Epoch: %d | Loss (train): %.4f | Loss (valid): %.4f' %(epoch, train_running_loss, valid_running_loss)) \n",
        "\n",
        "  scheduler.step(valid_running_loss)\n",
        "\n",
        "plt.plot(train_errors)\n",
        "plt.plot(valid_errors_steps, valid_errors)\n"
      ],
      "execution_count": 6,
      "outputs": [
        {
          "output_type": "stream",
          "text": [
            "Epoch: 0 | Loss (train): 0.9449 | Loss (valid): 0.9794\n",
            "Epoch: 10 | Loss (train): 0.1255 | Loss (valid): 0.1510\n",
            "Epoch: 20 | Loss (train): 0.0972 | Loss (valid): 0.1140\n",
            "Epoch: 30 | Loss (train): 0.0732 | Loss (valid): 0.0826\n",
            "Epoch: 40 | Loss (train): 0.0558 | Loss (valid): 0.0606\n",
            "Epoch: 50 | Loss (train): 0.0444 | Loss (valid): 0.0464\n",
            "Epoch: 60 | Loss (train): 0.0377 | Loss (valid): 0.0384\n",
            "Epoch: 70 | Loss (train): 0.0342 | Loss (valid): 0.0345\n",
            "Epoch: 80 | Loss (train): 0.0326 | Loss (valid): 0.0332\n",
            "Epoch: 90 | Loss (train): 0.0317 | Loss (valid): 0.0324\n",
            "Epoch: 100 | Loss (train): 0.0316 | Loss (valid): 0.0323\n",
            "Epoch: 110 | Loss (train): 0.0316 | Loss (valid): 0.0323\n",
            "Epoch: 120 | Loss (train): 0.0316 | Loss (valid): 0.0323\n",
            "Epoch: 130 | Loss (train): 0.0316 | Loss (valid): 0.0323\n",
            "Epoch: 140 | Loss (train): 0.0316 | Loss (valid): 0.0323\n",
            "Epoch: 150 | Loss (train): 0.0316 | Loss (valid): 0.0323\n",
            "Epoch: 160 | Loss (train): 0.0316 | Loss (valid): 0.0323\n",
            "Epoch: 170 | Loss (train): 0.0316 | Loss (valid): 0.0323\n",
            "Epoch: 180 | Loss (train): 0.0316 | Loss (valid): 0.0323\n",
            "Epoch: 190 | Loss (train): 0.0316 | Loss (valid): 0.0323\n"
          ],
          "name": "stdout"
        },
        {
          "output_type": "execute_result",
          "data": {
            "text/plain": [
              "[<matplotlib.lines.Line2D at 0x7f9df144b6a0>]"
            ]
          },
          "metadata": {
            "tags": []
          },
          "execution_count": 6
        },
        {
          "output_type": "display_data",
          "data": {
            "image/png": "[encoded data removed]",
            "text/plain": [
              "<Figure size 432x288 with 1 Axes>"
            ]
          },
          "metadata": {
            "tags": [],
            "needs_background": "light"
          }
        }
      ]
    },
    {
      "cell_type": "code",
      "metadata": {
        "id": "_UBItSEckCSt",
        "colab_type": "code",
        "colab": {
          "base_uri": "https://localhost:8080/",
          "height": 299
        },
        "outputId": "0be7346e-4493-4030-c24b-263293ab68b4"
      },
      "source": [
        "# Test results\n",
        "\n",
        "errors = []\n",
        "model.eval()\n",
        "for samples in test_loader:\n",
        "  adjacencies = samples['adjacency'].to(device)\n",
        "  labels = samples['algebraic'].to(device)\n",
        "  num_nodes = samples['num_nodes'].to(device)   \n",
        "  # Forwards pass\n",
        "  outputs = model(x_input, adjacencies)\n",
        "  # Compute error\n",
        "  err = padded_errors(outputs, labels, num_nodes)\n",
        "  errors.extend(err.detach())\n",
        " \n",
        "    \n",
        "print(len(errors))\n",
        "plt.hist(errors, bins=10);\n",
        "\n",
        "print(np.mean(np.abs(errors)))"
      ],
      "execution_count": 7,
      "outputs": [
        {
          "output_type": "stream",
          "text": [
            "30\n",
            "0.11962457070981505\n"
          ],
          "name": "stdout"
        },
        {
          "output_type": "display_data",
          "data": {
            "image/png": "[encoded data removed]",
            "text/plain": [
              "<Figure size 432x288 with 1 Axes>"
            ]
          },
          "metadata": {
            "tags": [],
            "needs_background": "light"
          }
        }
      ]
    },
    {
      "cell_type": "code",
      "metadata": {
        "id": "MRDRHt3mcqsq",
        "colab_type": "code",
        "colab": {
          "base_uri": "https://localhost:8080/",
          "height": 417
        },
        "outputId": "61c1aa01-000d-4b46-b909-0641bb72eb19"
      },
      "source": [
        "# Visualize an example estimates\n",
        "\n",
        "\n",
        "idx = 0  # Sample index\n",
        "\n",
        "out = outputs[idx,:,:].detach()\n",
        "print(out)\n",
        "out_avg = np.average(out.numpy())\n",
        "\n",
        "#  Create graph and node-level estimates\n",
        "gr = nx.from_numpy_matrix(adjacencies[idx].numpy())\n",
        "ax = plt.subplot(1,1,1)\n",
        "prediction_per_node = dict((k, '%.2f' % v) for k, v in enumerate(out.numpy()))\n",
        "#print(\"True value: \", labels[idx, 0].numpy())\n",
        "\n",
        "nx.draw(gr, ax=ax, node_size=20, with_labels=True, labels=prediction_per_node)\n",
        "plt.title('Avg: %.2f (True: %.2f)' % (out_avg, labels[idx].numpy()));\n",
        "\n"
      ],
      "execution_count": 8,
      "outputs": [
        {
          "output_type": "stream",
          "text": [
            "tensor([[0.5763],\n",
            "        [0.6054],\n",
            "        [0.6252],\n",
            "        [0.5694],\n",
            "        [0.5384],\n",
            "        [0.5371],\n",
            "        [0.5371],\n",
            "        [0.5372],\n",
            "        [0.6306]])\n"
          ],
          "name": "stdout"
        },
        {
          "output_type": "display_data",
          "data": {
            "image/png": "[encoded data removed]",
            "text/plain": [
              "<Figure size 432x288 with 1 Axes>"
            ]
          },
          "metadata": {
            "tags": []
          }
        }
      ]
    },
    {
      "cell_type": "code",
      "metadata": {
        "id": "rwfrDYNeI2N5",
        "colab_type": "code",
        "colab": {}
      },
      "source": [
        ""
      ],
      "execution_count": 8,
      "outputs": []
    }
  ]
}